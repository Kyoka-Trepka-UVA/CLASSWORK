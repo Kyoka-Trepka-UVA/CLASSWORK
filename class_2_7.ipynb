{
  "nbformat": 4,
  "nbformat_minor": 0,
  "metadata": {
    "colab": {
      "provenance": [],
      "authorship_tag": "ABX9TyNv/umUdzez+6Z/149sBB/t",
      "include_colab_link": true
    },
    "kernelspec": {
      "name": "python3",
      "display_name": "Python 3"
    },
    "language_info": {
      "name": "python"
    }
  },
  "cells": [
    {
      "cell_type": "markdown",
      "metadata": {
        "id": "view-in-github",
        "colab_type": "text"
      },
      "source": [
        "<a href=\"https://colab.research.google.com/github/Kyoka-Trepka-UVA/CLASSWORK/blob/main/class_2_7.ipynb\" target=\"_parent\"><img src=\"https://colab.research.google.com/assets/colab-badge.svg\" alt=\"Open In Colab\"/></a>"
      ]
    },
    {
      "cell_type": "code",
      "execution_count": 7,
      "metadata": {
        "colab": {
          "base_uri": "https://localhost:8080/"
        },
        "id": "gzO3KGwySb8i",
        "outputId": "9b0eda59-4905-4187-9659-f74abcd5fce1"
      },
      "outputs": [
        {
          "output_type": "execute_result",
          "data": {
            "text/plain": [
              "[0, 1, 4, 9, 16, 25, 36, 49, 64, 81, 100, 121, 144, 169, 196, 225, 256]"
            ]
          },
          "metadata": {},
          "execution_count": 7
        }
      ],
      "source": [
        "numbers = range(17)\n",
        "\n",
        "# for i in numbers:\n",
        "#  attempt[i] = i ** 2\n",
        "#attempt\n",
        "\n",
        "# for i in numbers:\n",
        "#   attempt[i] = i ** 2\n",
        "# attempt\n",
        "\n",
        "attempt = list()\n",
        "for i in numbers:\n",
        "  attempt.append(i**2)\n",
        "attempt"
      ]
    },
    {
      "cell_type": "code",
      "source": [
        "Square = [i**2 for i in numbers]\n",
        "Square"
      ],
      "metadata": {
        "colab": {
          "base_uri": "https://localhost:8080/"
        },
        "id": "X1evQ_XMU3r8",
        "outputId": "2101dacf-ed1e-4490-9dd6-45d08e2716bd"
      },
      "execution_count": 9,
      "outputs": [
        {
          "output_type": "execute_result",
          "data": {
            "text/plain": [
              "[0, 1, 4, 9, 16, 25, 36, 49, 64, 81, 100, 121, 144, 169, 196, 225, 256]"
            ]
          },
          "metadata": {},
          "execution_count": 9
        }
      ]
    },
    {
      "cell_type": "code",
      "source": [
        "number = range(5)\n",
        "square = [i**2 for i in number]\n",
        "square"
      ],
      "metadata": {
        "colab": {
          "base_uri": "https://localhost:8080/"
        },
        "id": "ZsW2XKdSVCwQ",
        "outputId": "66273362-65ff-473d-b8f9-8bafe17a971d"
      },
      "execution_count": 13,
      "outputs": [
        {
          "output_type": "execute_result",
          "data": {
            "text/plain": [
              "[0, 1, 4, 9, 16]"
            ]
          },
          "metadata": {},
          "execution_count": 13
        }
      ]
    },
    {
      "cell_type": "markdown",
      "source": [
        "A list of odd cubes"
      ],
      "metadata": {
        "id": "Dk03AprbVath"
      }
    },
    {
      "cell_type": "code",
      "source": [
        "# odds = range(1,17,2)\n",
        "# odd_cube = [i**3 for i in odds ]\n",
        "# print (odd_cube)\n",
        "\n",
        "numbers= range (17)\n",
        "odd_cubes2 =[i**3 for i in numbers if i%2 == 1]\n",
        "print (odd_cubes2)"
      ],
      "metadata": {
        "colab": {
          "base_uri": "https://localhost:8080/"
        },
        "id": "yc8y1HlEVaOh",
        "outputId": "235706ee-41b2-45c5-ace7-8ca891787131"
      },
      "execution_count": 16,
      "outputs": [
        {
          "output_type": "stream",
          "name": "stdout",
          "text": [
            "[1, 27, 125, 343, 729, 1331, 2197, 3375]\n"
          ]
        }
      ]
    },
    {
      "cell_type": "markdown",
      "source": [
        "robust code"
      ],
      "metadata": {
        "id": "orB5Vl75XDfD"
      }
    },
    {
      "cell_type": "code",
      "source": [
        "x=\n",
        "try:\n",
        "  print('word' * x)\n",
        "except:\n",
        "  print('error')"
      ],
      "metadata": {
        "colab": {
          "base_uri": "https://localhost:8080/"
        },
        "id": "8vKhrYr0XDN4",
        "outputId": "630b8998-f26a-4f16-e73c-69dc55fede47"
      },
      "execution_count": 25,
      "outputs": [
        {
          "output_type": "stream",
          "name": "stdout",
          "text": [
            "error\n"
          ]
        }
      ]
    },
    {
      "cell_type": "code",
      "source": [
        "print(\"what is your rating?\")\n",
        "n = input()\n",
        "print(\"your rating is\",int(n) * 1)\n"
      ],
      "metadata": {
        "colab": {
          "base_uri": "https://localhost:8080/"
        },
        "id": "Qa_qwKyUXxKL",
        "outputId": "cdd57b4d-1275-4e61-ae3f-b6ec96fe3e50"
      },
      "execution_count": 30,
      "outputs": [
        {
          "output_type": "stream",
          "name": "stdout",
          "text": [
            "what is your rating?\n",
            "3\n",
            "your rating is 3\n"
          ]
        }
      ]
    },
    {
      "cell_type": "code",
      "source": [
        "print(\"what is your rating\")\n",
        "n=input()\n",
        "if int(n) <=10 and int(n)>=1:\n",
        "  print(\"your rating is\", int(n)*'*')\n",
        "else:\n",
        "  print(\"invalid input\")"
      ],
      "metadata": {
        "colab": {
          "base_uri": "https://localhost:8080/"
        },
        "id": "lF2gX3kdYc7q",
        "outputId": "b7876015-787d-4bd3-afb5-5e720624a815"
      },
      "execution_count": 32,
      "outputs": [
        {
          "output_type": "stream",
          "name": "stdout",
          "text": [
            "what is your rating\n",
            "3\n",
            "your rating is ***\n"
          ]
        }
      ]
    },
    {
      "cell_type": "code",
      "source": [
        "print(\"what is your rating\")\n",
        "n=input()\n",
        "try:\n",
        "  if int(n) <=10 and int(n)>=1:\n",
        "   print(\"your rating is\", int(n)*'*')\n",
        "  else:\n",
        "   print(\"from 1 to 10 please\")\n",
        "except:\n",
        "  print(\"invalid input\")"
      ],
      "metadata": {
        "id": "Dw796JENZDz5"
      },
      "execution_count": null,
      "outputs": []
    },
    {
      "cell_type": "markdown",
      "source": [
        "While loop"
      ],
      "metadata": {
        "id": "DBSqiGplaXe8"
      }
    },
    {
      "cell_type": "code",
      "source": [
        "success = False\n",
        "\n",
        "while success == False:\n",
        "  print(\"what is your rating?\")\n",
        "  n = input()\n",
        "  try:\n",
        "    if int(n) <=10 and int(n)>=1:\n",
        "      print(\"your rating is\", int(n)*'*')\n",
        "      success=True\n",
        "    else:\n",
        "      print(\"from 1 to 10 please\")\n",
        "  except:\n",
        "    print(\"invalid answer\")\n",
        ""
      ],
      "metadata": {
        "colab": {
          "base_uri": "https://localhost:8080/"
        },
        "id": "StfkS2diaY8l",
        "outputId": "198f3605-d7cf-4edf-81d9-ae9c790c3dc1"
      },
      "execution_count": null,
      "outputs": [
        {
          "metadata": {
            "tags": null
          },
          "name": "stdout",
          "output_type": "stream",
          "text": [
            "what is your rating?\n"
          ]
        }
      ]
    }
  ]
}